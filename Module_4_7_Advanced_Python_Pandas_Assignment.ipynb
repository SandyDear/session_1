{
  "nbformat": 4,
  "nbformat_minor": 0,
  "metadata": {
    "colab": {
      "provenance": [],
      "include_colab_link": true
    },
    "language_info": {
      "codemirror_mode": {
        "name": "ipython",
        "version": 3
      },
      "file_extension": ".py",
      "mimetype": "text/x-python",
      "name": "python",
      "nbconvert_exporter": "python",
      "pygments_lexer": "ipython3",
      "version": "3.6.0"
    },
    "kernelspec": {
      "display_name": "Python 3",
      "language": "python",
      "name": "python3"
    }
  },
  "cells": [
    {
      "cell_type": "markdown",
      "metadata": {
        "id": "view-in-github",
        "colab_type": "text"
      },
      "source": [
        "<a href=\"https://colab.research.google.com/github/SandyDear/session_1/blob/main/Module_4_7_Advanced_Python_Pandas_Assignment.ipynb\" target=\"_parent\"><img src=\"https://colab.research.google.com/assets/colab-badge.svg\" alt=\"Open In Colab\"/></a>"
      ]
    },
    {
      "cell_type": "markdown",
      "metadata": {
        "id": "1MEgS7S-ffR1"
      },
      "source": [
        "\n",
        "This assignment requires more individual learning then the last one did - you are encouraged to check out the [pandas documentation](http://pandas.pydata.org/pandas-docs/stable/) to find functions or methods you might not have used yet, or ask questions on [Stack Overflow](http://stackoverflow.com/) and tag them as pandas and python related. "
      ]
    },
    {
      "cell_type": "markdown",
      "metadata": {
        "id": "1xzeJQMFADBG"
      },
      "source": [
        "Upload the file into google colab by using the \"Files\" option in the left\n",
        "\n",
        "\n",
        "Files also available here : https://drive.google.com/drive/folders/18ckgo0VwW70YT5m4dXknbzS5queUH0d4?usp=share_link"
      ]
    },
    {
      "cell_type": "markdown",
      "metadata": {
        "id": "x_kYqV0JffR2"
      },
      "source": [
        "### Question 1 (20%)\n",
        "Load the energy data from the file `Energy Indicators.xls`, which is a list of indicators of [energy supply and renewable electricity production](Energy%20Indicators.xls) from the [United Nations](http://unstats.un.org/unsd/environment/excel_file_tables/2013/Energy%20Indicators.xls) for the year 2013, and should be put into a DataFrame with the variable name of **energy**.\n",
        "\n",
        "Keep in mind that this is an Excel file, and not a comma separated values file. Also, make sure to exclude the footer and header information from the datafile. The first two columns are unneccessary, so you should get rid of them, and you should change the column labels so that the columns are:\n",
        "\n",
        "`['Country', 'Energy Supply', 'Energy Supply per Capita', '% Renewable']`\n",
        "\n"
      ]
    },
    {
      "cell_type": "code",
      "metadata": {
        "id": "3Ql0vxlzPeBQ"
      },
      "source": [
        "import pandas as pd\n",
        "import numpy as np"
      ],
      "execution_count": 1,
      "outputs": []
    },
    {
      "cell_type": "code",
      "source": [
        "def answer_one():\n",
        "  energy=pd.read_excel('Energy+Indicators.xls')\n",
        "  energy=energy[17:243]\n",
        "  energy=energy.drop(energy.columns[[0,1]],axis=1)\n",
        "  energy.rename(columns={'Unnamed: 2':'country','Unnamed: 3':'Energy supply','Unnamed: 4':'Energy supply per capita','Unnamed: 5':'%renewable'},inplace=True)\n",
        "  energy.replace('...',np.nan,inplace=True)\n",
        "  energy['Energy supply']*=1000000\n",
        "  return energy\n",
        "answer_one()\n"
      ],
      "metadata": {
        "id": "ieIhLhh0fGmZ",
        "outputId": "b4596615-f989-4b01-bb07-90b5da1ffb4e",
        "colab": {
          "base_uri": "https://localhost:8080/",
          "height": 423
        }
      },
      "execution_count": 34,
      "outputs": [
        {
          "output_type": "execute_result",
          "data": {
            "text/plain": [
              "                                country  Energy supply  \\\n",
              "17                          Afghanistan   3.210000e+08   \n",
              "18                              Albania   1.020000e+08   \n",
              "19                              Algeria   1.959000e+09   \n",
              "20                       American Samoa            NaN   \n",
              "21                              Andorra   9.000000e+06   \n",
              "..                                  ...            ...   \n",
              "238  Venezuela (Bolivarian Republic of)   2.871000e+09   \n",
              "239                            Viet Nam   2.554000e+09   \n",
              "240           Wallis and Futuna Islands   0.000000e+00   \n",
              "241                               Yemen   3.440000e+08   \n",
              "242                              Zambia   4.000000e+08   \n",
              "\n",
              "     Energy supply per capita  %renewable  \n",
              "17                       10.0   78.669280  \n",
              "18                       35.0  100.000000  \n",
              "19                       51.0    0.551010  \n",
              "20                        NaN    0.641026  \n",
              "21                      121.0   88.695650  \n",
              "..                        ...         ...  \n",
              "238                      95.0   67.834520  \n",
              "239                      28.0   45.321520  \n",
              "240                      26.0    0.000000  \n",
              "241                      13.0    0.000000  \n",
              "242                      26.0   99.714670  \n",
              "\n",
              "[226 rows x 4 columns]"
            ],
            "text/html": [
              "\n",
              "  <div id=\"df-d7233111-6cc6-4b09-ad02-1700091f8015\">\n",
              "    <div class=\"colab-df-container\">\n",
              "      <div>\n",
              "<style scoped>\n",
              "    .dataframe tbody tr th:only-of-type {\n",
              "        vertical-align: middle;\n",
              "    }\n",
              "\n",
              "    .dataframe tbody tr th {\n",
              "        vertical-align: top;\n",
              "    }\n",
              "\n",
              "    .dataframe thead th {\n",
              "        text-align: right;\n",
              "    }\n",
              "</style>\n",
              "<table border=\"1\" class=\"dataframe\">\n",
              "  <thead>\n",
              "    <tr style=\"text-align: right;\">\n",
              "      <th></th>\n",
              "      <th>country</th>\n",
              "      <th>Energy supply</th>\n",
              "      <th>Energy supply per capita</th>\n",
              "      <th>%renewable</th>\n",
              "    </tr>\n",
              "  </thead>\n",
              "  <tbody>\n",
              "    <tr>\n",
              "      <th>17</th>\n",
              "      <td>Afghanistan</td>\n",
              "      <td>3.210000e+08</td>\n",
              "      <td>10.0</td>\n",
              "      <td>78.669280</td>\n",
              "    </tr>\n",
              "    <tr>\n",
              "      <th>18</th>\n",
              "      <td>Albania</td>\n",
              "      <td>1.020000e+08</td>\n",
              "      <td>35.0</td>\n",
              "      <td>100.000000</td>\n",
              "    </tr>\n",
              "    <tr>\n",
              "      <th>19</th>\n",
              "      <td>Algeria</td>\n",
              "      <td>1.959000e+09</td>\n",
              "      <td>51.0</td>\n",
              "      <td>0.551010</td>\n",
              "    </tr>\n",
              "    <tr>\n",
              "      <th>20</th>\n",
              "      <td>American Samoa</td>\n",
              "      <td>NaN</td>\n",
              "      <td>NaN</td>\n",
              "      <td>0.641026</td>\n",
              "    </tr>\n",
              "    <tr>\n",
              "      <th>21</th>\n",
              "      <td>Andorra</td>\n",
              "      <td>9.000000e+06</td>\n",
              "      <td>121.0</td>\n",
              "      <td>88.695650</td>\n",
              "    </tr>\n",
              "    <tr>\n",
              "      <th>...</th>\n",
              "      <td>...</td>\n",
              "      <td>...</td>\n",
              "      <td>...</td>\n",
              "      <td>...</td>\n",
              "    </tr>\n",
              "    <tr>\n",
              "      <th>238</th>\n",
              "      <td>Venezuela (Bolivarian Republic of)</td>\n",
              "      <td>2.871000e+09</td>\n",
              "      <td>95.0</td>\n",
              "      <td>67.834520</td>\n",
              "    </tr>\n",
              "    <tr>\n",
              "      <th>239</th>\n",
              "      <td>Viet Nam</td>\n",
              "      <td>2.554000e+09</td>\n",
              "      <td>28.0</td>\n",
              "      <td>45.321520</td>\n",
              "    </tr>\n",
              "    <tr>\n",
              "      <th>240</th>\n",
              "      <td>Wallis and Futuna Islands</td>\n",
              "      <td>0.000000e+00</td>\n",
              "      <td>26.0</td>\n",
              "      <td>0.000000</td>\n",
              "    </tr>\n",
              "    <tr>\n",
              "      <th>241</th>\n",
              "      <td>Yemen</td>\n",
              "      <td>3.440000e+08</td>\n",
              "      <td>13.0</td>\n",
              "      <td>0.000000</td>\n",
              "    </tr>\n",
              "    <tr>\n",
              "      <th>242</th>\n",
              "      <td>Zambia</td>\n",
              "      <td>4.000000e+08</td>\n",
              "      <td>26.0</td>\n",
              "      <td>99.714670</td>\n",
              "    </tr>\n",
              "  </tbody>\n",
              "</table>\n",
              "<p>226 rows × 4 columns</p>\n",
              "</div>\n",
              "      <button class=\"colab-df-convert\" onclick=\"convertToInteractive('df-d7233111-6cc6-4b09-ad02-1700091f8015')\"\n",
              "              title=\"Convert this dataframe to an interactive table.\"\n",
              "              style=\"display:none;\">\n",
              "        \n",
              "  <svg xmlns=\"http://www.w3.org/2000/svg\" height=\"24px\"viewBox=\"0 0 24 24\"\n",
              "       width=\"24px\">\n",
              "    <path d=\"M0 0h24v24H0V0z\" fill=\"none\"/>\n",
              "    <path d=\"M18.56 5.44l.94 2.06.94-2.06 2.06-.94-2.06-.94-.94-2.06-.94 2.06-2.06.94zm-11 1L8.5 8.5l.94-2.06 2.06-.94-2.06-.94L8.5 2.5l-.94 2.06-2.06.94zm10 10l.94 2.06.94-2.06 2.06-.94-2.06-.94-.94-2.06-.94 2.06-2.06.94z\"/><path d=\"M17.41 7.96l-1.37-1.37c-.4-.4-.92-.59-1.43-.59-.52 0-1.04.2-1.43.59L10.3 9.45l-7.72 7.72c-.78.78-.78 2.05 0 2.83L4 21.41c.39.39.9.59 1.41.59.51 0 1.02-.2 1.41-.59l7.78-7.78 2.81-2.81c.8-.78.8-2.07 0-2.86zM5.41 20L4 18.59l7.72-7.72 1.47 1.35L5.41 20z\"/>\n",
              "  </svg>\n",
              "      </button>\n",
              "      \n",
              "  <style>\n",
              "    .colab-df-container {\n",
              "      display:flex;\n",
              "      flex-wrap:wrap;\n",
              "      gap: 12px;\n",
              "    }\n",
              "\n",
              "    .colab-df-convert {\n",
              "      background-color: #E8F0FE;\n",
              "      border: none;\n",
              "      border-radius: 50%;\n",
              "      cursor: pointer;\n",
              "      display: none;\n",
              "      fill: #1967D2;\n",
              "      height: 32px;\n",
              "      padding: 0 0 0 0;\n",
              "      width: 32px;\n",
              "    }\n",
              "\n",
              "    .colab-df-convert:hover {\n",
              "      background-color: #E2EBFA;\n",
              "      box-shadow: 0px 1px 2px rgba(60, 64, 67, 0.3), 0px 1px 3px 1px rgba(60, 64, 67, 0.15);\n",
              "      fill: #174EA6;\n",
              "    }\n",
              "\n",
              "    [theme=dark] .colab-df-convert {\n",
              "      background-color: #3B4455;\n",
              "      fill: #D2E3FC;\n",
              "    }\n",
              "\n",
              "    [theme=dark] .colab-df-convert:hover {\n",
              "      background-color: #434B5C;\n",
              "      box-shadow: 0px 1px 3px 1px rgba(0, 0, 0, 0.15);\n",
              "      filter: drop-shadow(0px 1px 2px rgba(0, 0, 0, 0.3));\n",
              "      fill: #FFFFFF;\n",
              "    }\n",
              "  </style>\n",
              "\n",
              "      <script>\n",
              "        const buttonEl =\n",
              "          document.querySelector('#df-d7233111-6cc6-4b09-ad02-1700091f8015 button.colab-df-convert');\n",
              "        buttonEl.style.display =\n",
              "          google.colab.kernel.accessAllowed ? 'block' : 'none';\n",
              "\n",
              "        async function convertToInteractive(key) {\n",
              "          const element = document.querySelector('#df-d7233111-6cc6-4b09-ad02-1700091f8015');\n",
              "          const dataTable =\n",
              "            await google.colab.kernel.invokeFunction('convertToInteractive',\n",
              "                                                     [key], {});\n",
              "          if (!dataTable) return;\n",
              "\n",
              "          const docLinkHtml = 'Like what you see? Visit the ' +\n",
              "            '<a target=\"_blank\" href=https://colab.research.google.com/notebooks/data_table.ipynb>data table notebook</a>'\n",
              "            + ' to learn more about interactive tables.';\n",
              "          element.innerHTML = '';\n",
              "          dataTable['output_type'] = 'display_data';\n",
              "          await google.colab.output.renderOutput(dataTable, element);\n",
              "          const docLink = document.createElement('div');\n",
              "          docLink.innerHTML = docLinkHtml;\n",
              "          element.appendChild(docLink);\n",
              "        }\n",
              "      </script>\n",
              "    </div>\n",
              "  </div>\n",
              "  "
            ]
          },
          "metadata": {},
          "execution_count": 34
        }
      ]
    },
    {
      "cell_type": "markdown",
      "metadata": {
        "id": "LiAEGYhJPBZw"
      },
      "source": [
        "Convert `Energy Supply` to gigajoules (there are 1,000,000 gigajoules in a petajoule). For all countries which have missing data (e.g. data with \"...\") make sure this is reflected as `np.NaN` values.\n",
        "\n",
        "\n"
      ]
    },
    {
      "cell_type": "code",
      "metadata": {
        "id": "9xJDEVCgPj0K"
      },
      "source": [],
      "execution_count": null,
      "outputs": []
    },
    {
      "cell_type": "markdown",
      "metadata": {
        "id": "lBzCjxEn9lWq"
      },
      "source": [
        "Rename the following list of countries (for use in later questions):\n",
        "\n",
        "```\"Republic of Korea\": \"South Korea\",\n",
        "\"United States of America\": \"United States\",\n",
        "\"United Kingdom of Great Britain and Northern Ireland\": \"United Kingdom\",\n",
        "\"China, Hong Kong Special Administrative Region\": \"Hong Kong\"```\n",
        "\n",
        "There are also several countries with numbers and/or parenthesis in their name. Be sure to remove these, \n",
        "\n",
        "e.g. \n",
        "\n",
        "`'Bolivia (Plurinational State of)'` should be `'Bolivia'`, \n",
        "\n",
        "`'Switzerland17'` should be `'Switzerland'`.\n",
        "\n",
        "<br>\n"
      ]
    },
    {
      "cell_type": "code",
      "metadata": {
        "id": "gZ4C8YIZo83V"
      },
      "source": [],
      "execution_count": null,
      "outputs": []
    },
    {
      "cell_type": "markdown",
      "metadata": {
        "id": "dYleys2KPVLT"
      },
      "source": [
        "Next, load the GDP data from the file `world_bank.csv`, which is a csv containing countries' GDP from 1960 to 2015 from [World Bank](http://data.worldbank.org/indicator/NY.GDP.MKTP.CD). Call this DataFrame **GDP**. \n",
        "\n",
        "Make sure to skip the header, and rename the following list of countries:\n",
        "\n",
        "```\"Korea, Rep.\": \"South Korea\", \n",
        "\"Iran, Islamic Rep.\": \"Iran\",\n",
        "\"Hong Kong SAR, China\": \"Hong Kong\"```\n",
        "\n",
        "\n",
        "\n",
        "Finally, load the [Sciamgo Journal and Country Rank data for Energy Engineering and Power Technology](http://www.scimagojr.com/countryrank.php?category=2102) from the file `scimagojr-3.xlsx`, which ranks countries based on their journal contributions in the aforementioned area. Call this DataFrame **ScimEn**.\n",
        "\n",
        "Join the three datasets: GDP, Energy, and ScimEn into a new dataset (using the intersection of country names). Use only the last 10 years (2006-2015) of GDP data and only the top 15 countries by Scimagojr 'Rank' (Rank 1 through 15). \n",
        "\n",
        "The index of this DataFrame should be the name of the country, and the columns should be ['Rank', 'Documents', 'Citable documents', 'Citations', 'Self-citations',\n",
        "       'Citations per document', 'H index', 'Energy Supply',\n",
        "       'Energy Supply per Capita', '% Renewable', '2006', '2007', '2008',\n",
        "       '2009', '2010', '2011', '2012', '2013', '2014', '2015'].\n",
        "\n",
        "*This function should return a DataFrame with 20 columns and 11 entries.*"
      ]
    },
    {
      "cell_type": "code",
      "metadata": {
        "id": "PmyzVm7fPlew"
      },
      "source": [],
      "execution_count": null,
      "outputs": []
    },
    {
      "cell_type": "code",
      "metadata": {
        "umich_part_id": "009",
        "umich_partlist_id": "003",
        "id": "ePJwbYUBffR3"
      },
      "source": [
        "def answer_one():\n",
        "    return \"ANSWER\""
      ],
      "execution_count": null,
      "outputs": []
    },
    {
      "cell_type": "markdown",
      "metadata": {
        "id": "iueuSKF2ffR6"
      },
      "source": [
        "### Question 2 (6.6%)\n",
        "The previous question joined three datasets then reduced this to just the top 15 entries. When you joined the datasets, but before you reduced this to the top 15 items, how many entries did you lose?\n",
        "\n",
        "*This function should return a single number.*"
      ]
    },
    {
      "cell_type": "code",
      "metadata": {
        "id": "z6chAqRyffR6",
        "colab": {
          "base_uri": "https://localhost:8080/",
          "height": 321
        },
        "outputId": "941b7d5f-937c-4dcc-bc99-f46842a471f3"
      },
      "source": [
        "%%HTML\n",
        "<svg width=\"800\" height=\"300\">\n",
        "  <circle cx=\"150\" cy=\"180\" r=\"80\" fill-opacity=\"0.2\" stroke=\"black\" stroke-width=\"2\" fill=\"blue\" />\n",
        "  <circle cx=\"200\" cy=\"100\" r=\"80\" fill-opacity=\"0.2\" stroke=\"black\" stroke-width=\"2\" fill=\"red\" />\n",
        "  <circle cx=\"100\" cy=\"100\" r=\"80\" fill-opacity=\"0.2\" stroke=\"black\" stroke-width=\"2\" fill=\"green\" />\n",
        "  <line x1=\"150\" y1=\"125\" x2=\"300\" y2=\"150\" stroke=\"black\" stroke-width=\"2\" fill=\"black\" stroke-dasharray=\"5,3\"/>\n",
        "  <text  x=\"300\" y=\"165\" font-family=\"Verdana\" font-size=\"35\">Everything but this!</text>\n",
        "</svg>"
      ],
      "execution_count": null,
      "outputs": [
        {
          "output_type": "display_data",
          "data": {
            "text/plain": [
              "<IPython.core.display.HTML object>"
            ],
            "text/html": [
              "<svg width=\"800\" height=\"300\">\n",
              "  <circle cx=\"150\" cy=\"180\" r=\"80\" fill-opacity=\"0.2\" stroke=\"black\" stroke-width=\"2\" fill=\"blue\" />\n",
              "  <circle cx=\"200\" cy=\"100\" r=\"80\" fill-opacity=\"0.2\" stroke=\"black\" stroke-width=\"2\" fill=\"red\" />\n",
              "  <circle cx=\"100\" cy=\"100\" r=\"80\" fill-opacity=\"0.2\" stroke=\"black\" stroke-width=\"2\" fill=\"green\" />\n",
              "  <line x1=\"150\" y1=\"125\" x2=\"300\" y2=\"150\" stroke=\"black\" stroke-width=\"2\" fill=\"black\" stroke-dasharray=\"5,3\"/>\n",
              "  <text  x=\"300\" y=\"165\" font-family=\"Verdana\" font-size=\"35\">Everything but this!</text>\n",
              "</svg>\n"
            ]
          },
          "metadata": {}
        }
      ]
    },
    {
      "cell_type": "code",
      "metadata": {
        "umich_part_id": "010",
        "umich_partlist_id": "003",
        "id": "ZO8uT19QffR_"
      },
      "source": [
        "def answer_two():\n",
        "    return \"ANSWER\""
      ],
      "execution_count": null,
      "outputs": []
    },
    {
      "cell_type": "markdown",
      "metadata": {
        "id": "cgUMKiXcffSB"
      },
      "source": [
        "## Answer the following questions in the context of only the top 15 countries by Scimagojr Rank (aka the DataFrame returned by `answer_one()`)"
      ]
    },
    {
      "cell_type": "markdown",
      "metadata": {
        "id": "Fmi6N4QTffSB"
      },
      "source": [
        "### Question 3 (6.6%)\n",
        "What is the average GDP over the last 10 years for each country? (exclude missing values from this calculation.)\n",
        "\n",
        "*This function should return a Series named `avgGDP` with 15 countries and their average GDP sorted in descending order.*"
      ]
    },
    {
      "cell_type": "code",
      "metadata": {
        "scrolled": true,
        "umich_part_id": "011",
        "umich_partlist_id": "003",
        "id": "wfMF_yknffSC"
      },
      "source": [
        "def answer_three():\n",
        "    Top15 = answer_one()\n",
        "    return \"ANSWER\""
      ],
      "execution_count": null,
      "outputs": []
    },
    {
      "cell_type": "markdown",
      "metadata": {
        "id": "K_bT7M80ffSF"
      },
      "source": [
        "### Question 4 (6.6%)\n",
        "By how much had the GDP changed over the 10 year span for the country with the 6th largest average GDP?\n",
        "\n",
        "*This function should return a single number.*"
      ]
    },
    {
      "cell_type": "code",
      "metadata": {
        "scrolled": true,
        "umich_part_id": "012",
        "umich_partlist_id": "003",
        "id": "3k_T1MYKffSG"
      },
      "source": [
        "def answer_four():\n",
        "    Top15 = answer_one()\n",
        "    return \"ANSWER\""
      ],
      "execution_count": null,
      "outputs": []
    },
    {
      "cell_type": "markdown",
      "metadata": {
        "id": "iWhv7AU-ffSI"
      },
      "source": [
        "### Question 5 (6.6%)\n",
        "What is the mean `Energy Supply per Capita`?\n",
        "\n",
        "*This function should return a single number.*"
      ]
    },
    {
      "cell_type": "code",
      "metadata": {
        "umich_part_id": "013",
        "umich_partlist_id": "003",
        "id": "cPELMh1DffSI"
      },
      "source": [
        "def answer_five():\n",
        "    Top15 = answer_one()\n",
        "    return \"ANSWER\""
      ],
      "execution_count": null,
      "outputs": []
    },
    {
      "cell_type": "markdown",
      "metadata": {
        "id": "7Ds3dcB2ffSK"
      },
      "source": [
        "### Question 6 (6.6%)\n",
        "What country has the maximum % Renewable and what is the percentage?\n",
        "\n",
        "*This function should return a tuple with the name of the country and the percentage.*"
      ]
    },
    {
      "cell_type": "code",
      "metadata": {
        "umich_part_id": "014",
        "umich_partlist_id": "003",
        "id": "ixQyBVV0ffSM"
      },
      "source": [
        "def answer_six():\n",
        "    Top15 = answer_one()\n",
        "    return \"ANSWER\""
      ],
      "execution_count": null,
      "outputs": []
    },
    {
      "cell_type": "markdown",
      "metadata": {
        "id": "qJ0AuC_-ffSO"
      },
      "source": [
        "### Question 7 (6.6%)\n",
        "Create a new column that is the ratio of Self-Citations to Total Citations. \n",
        "What is the maximum value for this new column, and what country has the highest ratio?\n",
        "\n",
        "*This function should return a tuple with the name of the country and the ratio.*"
      ]
    },
    {
      "cell_type": "code",
      "metadata": {
        "umich_part_id": "015",
        "umich_partlist_id": "003",
        "id": "-0xYCTZgffSP"
      },
      "source": [
        "def answer_seven():\n",
        "    Top15 = answer_one()\n",
        "    return \"ANSWER\""
      ],
      "execution_count": null,
      "outputs": []
    },
    {
      "cell_type": "markdown",
      "metadata": {
        "id": "Ij2W3wFoffSQ"
      },
      "source": [
        "### Question 8 (6.6%)\n",
        "\n",
        "Create a column that estimates the population using Energy Supply and Energy Supply per capita. \n",
        "What is the third most populous country according to this estimate?\n",
        "\n",
        "*This function should return a single string value.*"
      ]
    },
    {
      "cell_type": "code",
      "metadata": {
        "umich_part_id": "016",
        "umich_partlist_id": "003",
        "id": "sn_Sh-HkffSR"
      },
      "source": [
        "def answer_eight():\n",
        "    Top15 = answer_one()\n",
        "    return \"ANSWER\""
      ],
      "execution_count": null,
      "outputs": []
    },
    {
      "cell_type": "markdown",
      "metadata": {
        "id": "poy_LDdQffST"
      },
      "source": [
        "### Question 9 (6.6%)\n",
        "Create a column that estimates the number of citable documents per person. \n",
        "What is the correlation between the number of citable documents per capita and the energy supply per capita? Use the `.corr()` method, (Pearson's correlation).\n",
        "\n",
        "*This function should return a single number.*\n",
        "\n",
        "*(Optional: Use the built-in function `plot9()` to visualize the relationship between Energy Supply per Capita vs. Citable docs per Capita)*"
      ]
    },
    {
      "cell_type": "code",
      "metadata": {
        "umich_part_id": "017",
        "umich_partlist_id": "003",
        "id": "5G5vkRHbffST"
      },
      "source": [
        "def answer_nine():\n",
        "    Top15 = answer_one()\n",
        "    return \"ANSWER\""
      ],
      "execution_count": null,
      "outputs": []
    },
    {
      "cell_type": "code",
      "metadata": {
        "id": "heBfmjUyffSV"
      },
      "source": [
        "def plot9():\n",
        "    import matplotlib as plt\n",
        "    %matplotlib inline\n",
        "    \n",
        "    Top15 = answer_one()\n",
        "    Top15['PopEst'] = Top15['Energy Supply'] / Top15['Energy Supply per Capita']\n",
        "    Top15['Citable docs per Capita'] = Top15['Citable documents'] / Top15['PopEst']\n",
        "    Top15.plot(x='Citable docs per Capita', y='Energy Supply per Capita', kind='scatter', xlim=[0, 0.0006])"
      ],
      "execution_count": null,
      "outputs": []
    },
    {
      "cell_type": "code",
      "metadata": {
        "id": "OIqiaGHpffSX"
      },
      "source": [
        "#plot9() # Be sure to comment out plot9() before submitting the assignment!"
      ],
      "execution_count": null,
      "outputs": []
    },
    {
      "cell_type": "markdown",
      "metadata": {
        "id": "Ewsai7IwffSZ"
      },
      "source": [
        "### Question 10 (6.6%)\n",
        "Create a new column with a 1 if the country's % Renewable value is at or above the median for all countries in the top 15, and a 0 if the country's % Renewable value is below the median.\n",
        "\n",
        "*This function should return a series named `HighRenew` whose index is the country name sorted in ascending order of rank.*"
      ]
    },
    {
      "cell_type": "code",
      "metadata": {
        "umich_part_id": "018",
        "umich_partlist_id": "003",
        "id": "PolcZ8aaffSa"
      },
      "source": [
        "def answer_ten():\n",
        "    Top15 = answer_one()\n",
        "    return \"ANSWER\""
      ],
      "execution_count": null,
      "outputs": []
    },
    {
      "cell_type": "markdown",
      "metadata": {
        "id": "VXfzhEb4ffSc"
      },
      "source": [
        "### Question 11 (6.6%)\n",
        "Use the following dictionary to group the Countries by Continent, then create a dateframe that displays the sample size (the number of countries in each continent bin), and the sum, mean, and std deviation for the estimated population of each country.\n",
        "\n",
        "```python\n",
        "ContinentDict  = {'China':'Asia', \n",
        "                  'United States':'North America', \n",
        "                  'Japan':'Asia', \n",
        "                  'United Kingdom':'Europe', \n",
        "                  'Russian Federation':'Europe', \n",
        "                  'Canada':'North America', \n",
        "                  'Germany':'Europe', \n",
        "                  'India':'Asia',\n",
        "                  'France':'Europe', \n",
        "                  'South Korea':'Asia', \n",
        "                  'Italy':'Europe', \n",
        "                  'Spain':'Europe', \n",
        "                  'Iran':'Asia',\n",
        "                  'Australia':'Australia', \n",
        "                  'Brazil':'South America'}\n",
        "```\n",
        "\n",
        "*This function should return a DataFrame with index named Continent `['Asia', 'Australia', 'Europe', 'North America', 'South America']` and columns `['size', 'sum', 'mean', 'std']`*"
      ]
    },
    {
      "cell_type": "code",
      "metadata": {
        "umich_part_id": "019",
        "umich_partlist_id": "003",
        "id": "indCGfPkffSd"
      },
      "source": [
        "def answer_eleven():\n",
        "    Top15 = answer_one()\n",
        "    return \"ANSWER\""
      ],
      "execution_count": null,
      "outputs": []
    },
    {
      "cell_type": "markdown",
      "metadata": {
        "id": "cEdNkzHYffSh"
      },
      "source": [
        "### Question 12 (6.6%)\n",
        "Cut % Renewable into 5 bins. Group Top15 by the Continent, as well as these new % Renewable bins. How many countries are in each of these groups?\n",
        "\n",
        "*This function should return a __Series__ with a MultiIndex of `Continent`, then the bins for `% Renewable`. Do not include groups with no countries.*"
      ]
    },
    {
      "cell_type": "code",
      "metadata": {
        "scrolled": true,
        "id": "nSPyXK-yffSi"
      },
      "source": [
        "def answer_twelve():\n",
        "    Top15 = answer_one()\n",
        "    return \"ANSWER\""
      ],
      "execution_count": null,
      "outputs": []
    },
    {
      "cell_type": "markdown",
      "metadata": {
        "id": "NYJnQUm7ffSl"
      },
      "source": [
        "### Question 13 (6.6%)\n",
        "Convert the Population Estimate series to a string with thousands separator (using commas). Do not round the results.\n",
        "\n",
        "e.g. 317615384.61538464 -> 317,615,384.61538464\n",
        "\n",
        "*This function should return a Series `PopEst` whose index is the country name and whose values are the population estimate string.*"
      ]
    },
    {
      "cell_type": "code",
      "metadata": {
        "scrolled": true,
        "umich_part_id": "020",
        "umich_partlist_id": "003",
        "id": "klMaUAkiffSm"
      },
      "source": [
        "def answer_thirteen():\n",
        "    Top15 = answer_one()\n",
        "    return \"ANSWER\""
      ],
      "execution_count": null,
      "outputs": []
    },
    {
      "cell_type": "markdown",
      "metadata": {
        "id": "xa1wwzvRffSn"
      },
      "source": [
        "### Optional\n",
        "\n",
        "Use the built in function `plot_optional()` to see an example visualization."
      ]
    },
    {
      "cell_type": "code",
      "metadata": {
        "scrolled": true,
        "id": "Rx9tOlwEffSo"
      },
      "source": [
        "def plot_optional():\n",
        "    import matplotlib as plt\n",
        "    %matplotlib inline\n",
        "    Top15 = answer_one()\n",
        "    ax = Top15.plot(x='Rank', y='% Renewable', kind='scatter', \n",
        "                    c=['#e41a1c','#377eb8','#e41a1c','#4daf4a','#4daf4a','#377eb8','#4daf4a','#e41a1c',\n",
        "                       '#4daf4a','#e41a1c','#4daf4a','#4daf4a','#e41a1c','#dede00','#ff7f00'], \n",
        "                    xticks=range(1,16), s=6*Top15['2014']/10**10, alpha=.75, figsize=[16,6]);\n",
        "\n",
        "    for i, txt in enumerate(Top15.index):\n",
        "        ax.annotate(txt, [Top15['Rank'][i], Top15['% Renewable'][i]], ha='center')\n",
        "\n",
        "    print(\"This is an example of a visualization that can be created to help understand the data. \\\n",
        "This is a bubble chart showing % Renewable vs. Rank. The size of the bubble corresponds to the countries' \\\n",
        "2014 GDP, and the color corresponds to the continent.\")"
      ],
      "execution_count": null,
      "outputs": []
    },
    {
      "cell_type": "code",
      "metadata": {
        "id": "9wqddOn5ffSq"
      },
      "source": [
        "#plot_optional() # Be sure to comment out plot_optional() before submitting the assignment!"
      ],
      "execution_count": null,
      "outputs": []
    }
  ]
}